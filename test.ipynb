{
 "cells": [
  {
   "cell_type": "code",
   "execution_count": 1,
   "id": "d65f6e2f",
   "metadata": {},
   "outputs": [
    {
     "name": "stdout",
     "output_type": "stream",
     "text": [
      "11.5\n",
      "12\n",
      "10\n",
      "11\n",
      "11\n",
      "12\n"
     ]
    }
   ],
   "source": [
    "import math\n",
    "n = 23\n",
    "print(n / 2)\n",
    "print(round(n / 2))\n",
    "print(int(10.51))\n",
    "print(round(10.51))\n",
    "print(n // 2)\n",
    "print(math.ceil(n / 2))"
   ]
  },
  {
   "cell_type": "code",
   "execution_count": 21,
   "id": "3cd7e08b",
   "metadata": {},
   "outputs": [
    {
     "name": "stdout",
     "output_type": "stream",
     "text": [
      "1.5\n",
      "0 5.0\n",
      "1 4.333333333333333\n",
      "2 3.6666666666666665\n",
      "3 3.0\n",
      "4 2.3333333333333335\n",
      "5 1.6666666666666667\n",
      "6 1.0\n",
      "7 0.3333333333333333\n",
      "8 0.3333333333333333\n",
      "9 1.0\n",
      "10 1.6666666666666667\n",
      "11 2.3333333333333335\n",
      "12 3.0\n",
      "13 3.6666666666666665\n",
      "14 4.333333333333333\n",
      "15 5.0\n"
     ]
    }
   ],
   "source": [
    "length = 15\n",
    "bin_length = 5\n",
    "\n",
    "bin = length / bin_length / 2\n",
    "print(bin)\n",
    "\n",
    "for i in range(length + 1):\n",
    "    grade = abs(i - length / 2) / bin\n",
    "    print(i, grade)\n"
   ]
  }
 ],
 "metadata": {
  "kernelspec": {
   "display_name": ".venv",
   "language": "python",
   "name": "python3"
  },
  "language_info": {
   "codemirror_mode": {
    "name": "ipython",
    "version": 3
   },
   "file_extension": ".py",
   "mimetype": "text/x-python",
   "name": "python",
   "nbconvert_exporter": "python",
   "pygments_lexer": "ipython3",
   "version": "3.13.7"
  }
 },
 "nbformat": 4,
 "nbformat_minor": 5
}

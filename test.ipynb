{
 "cells": [
  {
   "cell_type": "code",
   "execution_count": 10,
   "id": "d65f6e2f",
   "metadata": {},
   "outputs": [
    {
     "name": "stdout",
     "output_type": "stream",
     "text": [
      "11.5\n",
      "12\n",
      "10\n",
      "11\n",
      "11\n",
      "12\n"
     ]
    }
   ],
   "source": [
    "import math\n",
    "n = 23\n",
    "print(n / 2)\n",
    "print(round(n / 2))\n",
    "print(int(10.51))\n",
    "print(round(10.51))\n",
    "print(n // 2)\n",
    "print(math.ceil(n / 2))"
   ]
  }
 ],
 "metadata": {
  "kernelspec": {
   "display_name": ".venv (3.13.4)",
   "language": "python",
   "name": "python3"
  },
  "language_info": {
   "codemirror_mode": {
    "name": "ipython",
    "version": 3
   },
   "file_extension": ".py",
   "mimetype": "text/x-python",
   "name": "python",
   "nbconvert_exporter": "python",
   "pygments_lexer": "ipython3",
   "version": "3.13.4"
  }
 },
 "nbformat": 4,
 "nbformat_minor": 5
}
